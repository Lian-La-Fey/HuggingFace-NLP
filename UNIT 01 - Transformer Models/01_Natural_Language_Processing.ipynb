{
 "cells": [
  {
   "cell_type": "markdown",
   "metadata": {},
   "source": [
    "# Doğal Dil İşleme\n",
    "\n",
    "Transformer modellerine geçmeden önce, doğal dil işlemenin ne olduğuna ve neden önemsediğimize dair hızlı bir genel bakış yapalım.\n",
    "\n",
    "## NLP nedir?\n",
    "\n",
    "NLP, insan diliyle ilgili her şeyi anlamaya odaklanan bir dilbilim(linguistics) ve makine öğrenimi alanıdır. NLP görevlerinin amacı yalnızca tek tek kelimeleri anlamak değil, aynı zamanda bu kelimelerin bağlamını da anlayabilmektir.\n",
    "\n",
    "Aşağıda, her birinin bazı örnekleriyle birlikte yaygın NLP görevlerinin bir listesi bulunmaktadır:\n",
    "\n",
    "- Bütün cümleleri sınıflandırma: Bir incelemenin hissiyatını almak, bir e-postanın spam olup olmadığını tespit etmek, bir cümlenin dilbilgisi açısından doğru olup olmadığını veya iki cümlenin mantıksal olarak ilişkili olup olmadığını belirlemek\n",
    "\n",
    "- Bir cümledeki her bir kelimeyi sınıflandırmak: Bir cümlenin dilbilgisel bileşenlerini (isim, fiil, sıfat) veya adlandırılmış varlıkları (kişi, yer, kuruluş) tanımlama\n",
    "\n",
    "- Metin içeriği oluşturma: Otomatik oluşturulan metinle bir komut istemini tamamlama, maskelenmiş kelimelerle bir metindeki boşlukları doldurma\n",
    "\n",
    "- Bir metinden cevap çıkarma: Bir soru ve bir bağlam verildiğinde, bağlamda sağlanan bilgilere dayanarak sorunun cevabını çıkarma\n",
    "\n",
    "- Bir girdi metninden yeni bir cümle oluşturma: Bir metni başka bir dile çevirme, bir metni özetleme\n",
    "\n",
    "NLP sadece yazılı metinlerle sınırlı değildir. Aynı zamanda konuşma tanıma ve bilgisayarla görme alanındaki karmaşık zorlukların da üstesinden gelir; örneğin bir ses örneğinin transkriptini veya bir görüntünün açıklamasını oluşturmak gibi.\n",
    "\n",
    "## Neden bu kadar zorlayıcı?\n",
    "\n",
    "Bilgisayarlar bilgiyi insanlarla aynı şekilde işlemezler. Örneğin, \"Açım\" cümlesini okuduğumuzda anlamını kolayca anlayabiliriz. Benzer şekilde, \"Açım\" ve \"Üzgünüm\" gibi iki cümle verildiğinde, ne kadar benzer olduklarını kolayca belirleyebiliriz. Makine öğrenimi (ML) modelleri için bu tür görevler daha zordur. Metnin, modelin ondan öğrenmesini sağlayacak şekilde işlenmesi gerekir. Ve dil karmaşık olduğu için, bu işlemin nasıl yapılması gerektiği konusunda dikkatlice düşünmemiz gerekir. Metnin nasıl temsil edileceği konusunda pek çok araştırma yapılmıştır ve bir sonraki bölümde bazı yöntemlere bakacağız."
   ]
  }
 ],
 "metadata": {
  "language_info": {
   "name": "python"
  }
 },
 "nbformat": 4,
 "nbformat_minor": 2
}
